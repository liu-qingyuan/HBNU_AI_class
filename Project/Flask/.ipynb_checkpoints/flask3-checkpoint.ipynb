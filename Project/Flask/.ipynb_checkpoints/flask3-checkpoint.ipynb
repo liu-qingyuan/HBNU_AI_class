{
 "cells": [
  {
   "cell_type": "code",
   "execution_count": null,
   "id": "dee8fd6d-1e98-42d3-ba73-e99370d67b9d",
   "metadata": {},
   "outputs": [],
   "source": [
    "from flask import Flask, template_rendered, request\n",
    "\n",
    "@app.route('/', methods=['GET', 'POST'])\n",
    "def index():\n",
    "    if request.method == 'POST':\n",
    "        \n",
    "        username = request.form.get('username')\n",
    "    \n",
    "\n",
    "\n",
    "\n"
   ]
  }
 ],
 "metadata": {
  "kernelspec": {
   "display_name": "Python 3",
   "language": "python",
   "name": "python3"
  },
  "language_info": {
   "codemirror_mode": {
    "name": "ipython",
    "version": 3
   },
   "file_extension": ".py",
   "mimetype": "text/x-python",
   "name": "python",
   "nbconvert_exporter": "python",
   "pygments_lexer": "ipython3",
   "version": "3.8.8"
  }
 },
 "nbformat": 4,
 "nbformat_minor": 5
}
