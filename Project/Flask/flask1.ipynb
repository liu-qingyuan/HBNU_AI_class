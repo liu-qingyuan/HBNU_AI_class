{
 "cells": [
  {
   "cell_type": "code",
   "execution_count": 1,
   "id": "0f6643d8-0842-4d9f-85b4-a8bdaad09323",
   "metadata": {
    "execution": {
     "iopub.execute_input": "2021-10-26T00:36:03.900728Z",
     "iopub.status.busy": "2021-10-26T00:36:03.900728Z",
     "iopub.status.idle": "2021-10-26T00:36:05.628795Z",
     "shell.execute_reply": "2021-10-26T00:36:05.627044Z",
     "shell.execute_reply.started": "2021-10-26T00:36:03.900728Z"
    },
    "tags": []
   },
   "outputs": [],
   "source": [
    "from flask import Flask\n",
    "\n",
    "class config(object):\n",
    "    SECRET_KEY = 'liuqingyuan123'\n",
    "\n",
    "def create_flask_app(config):\n",
    "    '''\n",
    "    构建flask对象的工厂函数\n",
    "    '''\n",
    "    app = Flask(__name__, static_url_path='/s')\n",
    "\n",
    "    # 设置\n",
    "    app.config.from_object(config)\n",
    "    return app\n",
    "\n",
    "app = create_flask_app(config)\n",
    "\n",
    "# 定义视图\n",
    "@app.route('/user/<int:user_id>')\n",
    "def index(user_id):\n",
    "    # 读取配置信息\n",
    "    print(app.config)\n",
    "    return 'hello Yuan {}'.format(user_id)"
   ]
  },
  {
   "cell_type": "code",
   "execution_count": 6,
   "id": "1cf4ace6-e63d-4304-993c-3a9789a07ed5",
   "metadata": {
    "execution": {
     "iopub.execute_input": "2021-10-26T00:36:10.577087Z",
     "iopub.status.busy": "2021-10-26T00:36:10.577087Z",
     "iopub.status.idle": "2021-10-26T00:41:08.858015Z",
     "shell.execute_reply": "2021-10-26T00:41:08.857068Z",
     "shell.execute_reply.started": "2021-10-26T00:36:10.577087Z"
    },
    "tags": []
   },
   "outputs": [
    {
     "name": "stdout",
     "output_type": "stream",
     "text": [
      " * Serving Flask app \"__main__\" (lazy loading)\n",
      " * Environment: production\n",
      "   WARNING: This is a development server. Do not use it in a production deployment.\n",
      "   Use a production WSGI server instead.\n",
      " * Debug mode: off\n"
     ]
    },
    {
     "name": "stderr",
     "output_type": "stream",
     "text": [
      " * Running on http://127.0.0.1:5000/ (Press CTRL+C to quit)\n",
      "127.0.0.1 - - [26/Oct/2021 08:36:12] \"\u001b[33mGET / HTTP/1.1\u001b[0m\" 404 -\n",
      "127.0.0.1 - - [26/Oct/2021 08:36:13] \"\u001b[33mGET /favicon.ico HTTP/1.1\u001b[0m\" 404 -\n",
      "127.0.0.1 - - [26/Oct/2021 08:36:28] \"\u001b[37mGET /user/15 HTTP/1.1\u001b[0m\" 200 -\n"
     ]
    },
    {
     "name": "stdout",
     "output_type": "stream",
     "text": [
      "<Config {'ENV': 'production', 'DEBUG': False, 'TESTING': False, 'PROPAGATE_EXCEPTIONS': None, 'PRESERVE_CONTEXT_ON_EXCEPTION': None, 'SECRET_KEY': 'liuqingyuan123', 'PERMANENT_SESSION_LIFETIME': datetime.timedelta(days=31), 'USE_X_SENDFILE': False, 'SERVER_NAME': None, 'APPLICATION_ROOT': '/', 'SESSION_COOKIE_NAME': 'session', 'SESSION_COOKIE_DOMAIN': False, 'SESSION_COOKIE_PATH': None, 'SESSION_COOKIE_HTTPONLY': True, 'SESSION_COOKIE_SECURE': False, 'SESSION_COOKIE_SAMESITE': None, 'SESSION_REFRESH_EACH_REQUEST': True, 'MAX_CONTENT_LENGTH': None, 'SEND_FILE_MAX_AGE_DEFAULT': datetime.timedelta(seconds=43200), 'TRAP_BAD_REQUEST_ERRORS': None, 'TRAP_HTTP_EXCEPTIONS': False, 'EXPLAIN_TEMPLATE_LOADING': False, 'PREFERRED_URL_SCHEME': 'http', 'JSON_AS_ASCII': True, 'JSON_SORT_KEYS': True, 'JSONIFY_PRETTYPRINT_REGULAR': False, 'JSONIFY_MIMETYPE': 'application/json', 'TEMPLATES_AUTO_RELOAD': None, 'MAX_COOKIE_SIZE': 4093}>\n"
     ]
    },
    {
     "name": "stderr",
     "output_type": "stream",
     "text": [
      "127.0.0.1 - - [26/Oct/2021 08:36:41] \"\u001b[37mGET /user/521 HTTP/1.1\u001b[0m\" 200 -\n"
     ]
    },
    {
     "name": "stdout",
     "output_type": "stream",
     "text": [
      "<Config {'ENV': 'production', 'DEBUG': False, 'TESTING': False, 'PROPAGATE_EXCEPTIONS': None, 'PRESERVE_CONTEXT_ON_EXCEPTION': None, 'SECRET_KEY': 'liuqingyuan123', 'PERMANENT_SESSION_LIFETIME': datetime.timedelta(days=31), 'USE_X_SENDFILE': False, 'SERVER_NAME': None, 'APPLICATION_ROOT': '/', 'SESSION_COOKIE_NAME': 'session', 'SESSION_COOKIE_DOMAIN': False, 'SESSION_COOKIE_PATH': None, 'SESSION_COOKIE_HTTPONLY': True, 'SESSION_COOKIE_SECURE': False, 'SESSION_COOKIE_SAMESITE': None, 'SESSION_REFRESH_EACH_REQUEST': True, 'MAX_CONTENT_LENGTH': None, 'SEND_FILE_MAX_AGE_DEFAULT': datetime.timedelta(seconds=43200), 'TRAP_BAD_REQUEST_ERRORS': None, 'TRAP_HTTP_EXCEPTIONS': False, 'EXPLAIN_TEMPLATE_LOADING': False, 'PREFERRED_URL_SCHEME': 'http', 'JSON_AS_ASCII': True, 'JSON_SORT_KEYS': True, 'JSONIFY_PRETTYPRINT_REGULAR': False, 'JSONIFY_MIMETYPE': 'application/json', 'TEMPLATES_AUTO_RELOAD': None, 'MAX_COOKIE_SIZE': 4093}>\n"
     ]
    },
    {
     "name": "stderr",
     "output_type": "stream",
     "text": [
      "127.0.0.1 - - [26/Oct/2021 08:36:52] \"\u001b[33mGET /user/521b HTTP/1.1\u001b[0m\" 404 -\n"
     ]
    }
   ],
   "source": [
    "app.run()"
   ]
  }
 ],
 "metadata": {
  "kernelspec": {
   "display_name": "Python 3",
   "language": "python",
   "name": "python3"
  },
  "language_info": {
   "codemirror_mode": {
    "name": "ipython",
    "version": 3
   },
   "file_extension": ".py",
   "mimetype": "text/x-python",
   "name": "python",
   "nbconvert_exporter": "python",
   "pygments_lexer": "ipython3",
   "version": "3.8.8"
  }
 },
 "nbformat": 4,
 "nbformat_minor": 5
}
