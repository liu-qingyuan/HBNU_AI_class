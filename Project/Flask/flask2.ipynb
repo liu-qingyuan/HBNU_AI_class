{
 "cells": [
  {
   "cell_type": "code",
   "execution_count": 1,
   "id": "53bdd2f3-d0aa-4bbb-9e39-858c3d3e14f5",
   "metadata": {
    "execution": {
     "iopub.execute_input": "2021-10-26T01:37:36.570904Z",
     "iopub.status.busy": "2021-10-26T01:37:36.570904Z",
     "iopub.status.idle": "2021-10-26T01:37:36.784482Z",
     "shell.execute_reply": "2021-10-26T01:37:36.783684Z",
     "shell.execute_reply.started": "2021-10-26T01:37:36.570904Z"
    },
    "tags": []
   },
   "outputs": [],
   "source": [
    "from flask import Flask, render_template\n",
    "\n",
    "app = Flask(__name__)\n",
    "\n",
    "@app.route('/')\n",
    "def index():\n",
    "    \n",
    "    # 传参\n",
    "    url_str = 'www.itheima.com'\n",
    "    \n",
    "    my_list = [1,3,5,7,9]\n",
    "    \n",
    "    my_dict = {\n",
    "        'name': '刘青沅'\n",
    "    }\n",
    "    \n",
    "    \n",
    "    return render_template('index.html', \n",
    "                           url_str=url_str,\n",
    "                           my_list=my_list,\n",
    "                           my_dict=my_dict\n",
    "                          )\n",
    "\n",
    "\n",
    "\n",
    "\n"
   ]
  },
  {
   "cell_type": "code",
   "execution_count": null,
   "id": "dabd9dc7-edc9-4d2a-abd3-90f83424db8c",
   "metadata": {
    "execution": {
     "iopub.execute_input": "2021-10-26T01:37:37.510513Z",
     "iopub.status.busy": "2021-10-26T01:37:37.510513Z"
    },
    "tags": []
   },
   "outputs": [
    {
     "name": "stdout",
     "output_type": "stream",
     "text": [
      " * Serving Flask app \"__main__\" (lazy loading)\n",
      " * Environment: production\n",
      "   WARNING: This is a development server. Do not use it in a production deployment.\n",
      "   Use a production WSGI server instead.\n",
      " * Debug mode: off\n"
     ]
    },
    {
     "name": "stderr",
     "output_type": "stream",
     "text": [
      " * Running on http://127.0.0.1:5000/ (Press CTRL+C to quit)\n",
      "127.0.0.1 - - [26/Oct/2021 09:37:40] \"\u001b[37mGET / HTTP/1.1\u001b[0m\" 200 -\n"
     ]
    }
   ],
   "source": [
    "app.run()"
   ]
  }
 ],
 "metadata": {
  "kernelspec": {
   "display_name": "Python 3",
   "language": "python",
   "name": "python3"
  },
  "language_info": {
   "codemirror_mode": {
    "name": "ipython",
    "version": 3
   },
   "file_extension": ".py",
   "mimetype": "text/x-python",
   "name": "python",
   "nbconvert_exporter": "python",
   "pygments_lexer": "ipython3",
   "version": "3.8.8"
  }
 },
 "nbformat": 4,
 "nbformat_minor": 5
}
