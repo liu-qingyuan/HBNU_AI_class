{
 "cells": [
  {
   "cell_type": "code",
   "execution_count": 1,
   "id": "938b3d6e-7383-48eb-bc66-07c9181ff9de",
   "metadata": {
    "execution": {
     "iopub.execute_input": "2021-10-22T06:19:42.885183Z",
     "iopub.status.busy": "2021-10-22T06:19:42.885183Z",
     "iopub.status.idle": "2021-10-22T06:19:43.086073Z",
     "shell.execute_reply": "2021-10-22T06:19:43.085303Z",
     "shell.execute_reply.started": "2021-10-22T06:19:42.885183Z"
    },
    "tags": []
   },
   "outputs": [],
   "source": [
    "from flask import Flask, Blueprint\n",
    "app = Flask(__name__, static_url_path='/s')"
   ]
  },
  {
   "cell_type": "code",
   "execution_count": 2,
   "id": "55ee8a70-004b-4b51-b226-7587caefc8fe",
   "metadata": {
    "execution": {
     "iopub.execute_input": "2021-10-22T06:19:43.086073Z",
     "iopub.status.busy": "2021-10-22T06:19:43.086073Z",
     "iopub.status.idle": "2021-10-22T06:19:43.101811Z",
     "shell.execute_reply": "2021-10-22T06:19:43.101307Z",
     "shell.execute_reply.started": "2021-10-22T06:19:43.086073Z"
    },
    "tags": []
   },
   "outputs": [],
   "source": [
    "# 定义视图\n",
    "@app.route('/')\n",
    "def index():\n",
    "    # 读取配置信息\n",
    "#     print(app.config)\n",
    "    return 'hello Yuan 141'"
   ]
  },
  {
   "cell_type": "code",
   "execution_count": 3,
   "id": "86556ed6-c662-4e58-a760-20aaa2217f4a",
   "metadata": {
    "execution": {
     "iopub.execute_input": "2021-10-22T06:19:43.102811Z",
     "iopub.status.busy": "2021-10-22T06:19:43.102811Z",
     "iopub.status.idle": "2021-10-22T06:19:43.117441Z",
     "shell.execute_reply": "2021-10-22T06:19:43.116919Z",
     "shell.execute_reply.started": "2021-10-22T06:19:43.102811Z"
    },
    "tags": []
   },
   "outputs": [],
   "source": [
    "# 创建蓝图对象\n",
    "user_bp = Blueprint('user', __name__)\n",
    "\n",
    "\n",
    "# 定义视图\n",
    "@user_bp.route('/profile')\n",
    "def get_profile():\n",
    "    return 'user profile'\n",
    "\n",
    "app.register_blueprint(user_bp, url_prefix='/gg')"
   ]
  },
  {
   "cell_type": "code",
   "execution_count": 4,
   "id": "8a4632fc-bea1-41c3-baeb-252956627773",
   "metadata": {
    "execution": {
     "iopub.execute_input": "2021-10-22T06:19:43.118442Z",
     "iopub.status.busy": "2021-10-22T06:19:43.118442Z",
     "iopub.status.idle": "2021-10-22T06:19:43.133057Z",
     "shell.execute_reply": "2021-10-22T06:19:43.132062Z",
     "shell.execute_reply.started": "2021-10-22T06:19:43.118442Z"
    },
    "tags": []
   },
   "outputs": [],
   "source": [
    "from goods import goods_bp\n",
    "\n",
    "app.register_blueprint(goods_bp)"
   ]
  },
  {
   "cell_type": "code",
   "execution_count": null,
   "id": "5da8a566-be8d-42aa-bce5-1b5bb1af6ab2",
   "metadata": {},
   "outputs": [],
   "source": []
  },
  {
   "cell_type": "code",
   "execution_count": 5,
   "id": "418dda52-25d9-4fe0-a6e7-73ea398d9a5d",
   "metadata": {
    "execution": {
     "iopub.execute_input": "2021-10-22T06:19:43.133057Z",
     "iopub.status.busy": "2021-10-22T06:19:43.133057Z",
     "iopub.status.idle": "2021-10-22T06:19:56.523071Z",
     "shell.execute_reply": "2021-10-22T06:19:56.521061Z",
     "shell.execute_reply.started": "2021-10-22T06:19:43.133057Z"
    },
    "tags": []
   },
   "outputs": [
    {
     "name": "stdout",
     "output_type": "stream",
     "text": [
      " * Serving Flask app \"__main__\" (lazy loading)\n",
      " * Environment: production\n",
      "   WARNING: This is a development server. Do not use it in a production deployment.\n",
      "   Use a production WSGI server instead.\n",
      " * Debug mode: off\n"
     ]
    },
    {
     "name": "stderr",
     "output_type": "stream",
     "text": [
      " * Running on http://127.0.0.1:5000/ (Press CTRL+C to quit)\n",
      "127.0.0.1 - - [22/Oct/2021 14:19:45] \"\u001b[37mGET / HTTP/1.1\u001b[0m\" 200 -\n",
      "127.0.0.1 - - [22/Oct/2021 14:19:50] \"\u001b[37mGET /goods HTTP/1.1\u001b[0m\" 200 -\n"
     ]
    }
   ],
   "source": [
    "app.run()"
   ]
  },
  {
   "cell_type": "code",
   "execution_count": null,
   "id": "c92d2f05-dc12-4b61-80d4-159de75b14c8",
   "metadata": {},
   "outputs": [],
   "source": []
  },
  {
   "cell_type": "code",
   "execution_count": null,
   "id": "5d9b784f-76a3-4fa8-b154-0cbbb47640e4",
   "metadata": {},
   "outputs": [],
   "source": []
  },
  {
   "cell_type": "code",
   "execution_count": null,
   "id": "ce6b28bc-7048-4c02-87d2-2c060f241e91",
   "metadata": {},
   "outputs": [],
   "source": []
  }
 ],
 "metadata": {
  "kernelspec": {
   "display_name": "Python 3",
   "language": "python",
   "name": "python3"
  },
  "language_info": {
   "codemirror_mode": {
    "name": "ipython",
    "version": 3
   },
   "file_extension": ".py",
   "mimetype": "text/x-python",
   "name": "python",
   "nbconvert_exporter": "python",
   "pygments_lexer": "ipython3",
   "version": "3.8.8"
  }
 },
 "nbformat": 4,
 "nbformat_minor": 5
}
